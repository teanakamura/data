{
 "cells": [
  {
   "cell_type": "code",
   "execution_count": 8,
   "metadata": {},
   "outputs": [
    {
     "name": "stdout",
     "output_type": "stream",
     "text": [
      "311971\r"
     ]
    }
   ],
   "source": [
    "slen = 0\n",
    "dlen = 0\n",
    "count = 0\n",
    "\n",
    "source_dir = '../'\n",
    "delimiter = '<summ-content>'\n",
    "modes = ['test', 'val', 'train']\n",
    "\n",
    "for mode in modes:\n",
    "    source = source_dir + mode + '.txt'\n",
    "\n",
    "    with open(source) as so:\n",
    "        for l in so:\n",
    "            s, d = l.split(delimiter)\n",
    "            slen += len(s.split())\n",
    "            dlen += len(d.split())\n",
    "            count += 1\n",
    "            print(count, end='\\r')"
   ]
  },
  {
   "cell_type": "code",
   "execution_count": 9,
   "metadata": {},
   "outputs": [
    {
     "data": {
      "text/plain": [
       "(63.170515849229574, 790.2437598366515)"
      ]
     },
     "execution_count": 9,
     "metadata": {},
     "output_type": "execute_result"
    }
   ],
   "source": [
    "slen/count, dlen/count"
   ]
  }
 ],
 "metadata": {
  "kernelspec": {
   "display_name": "Python 3",
   "language": "python",
   "name": "python3"
  },
  "language_info": {
   "codemirror_mode": {
    "name": "ipython",
    "version": 3
   },
   "file_extension": ".py",
   "mimetype": "text/x-python",
   "name": "python",
   "nbconvert_exporter": "python",
   "pygments_lexer": "ipython3",
   "version": "3.7.4"
  }
 },
 "nbformat": 4,
 "nbformat_minor": 2
}
