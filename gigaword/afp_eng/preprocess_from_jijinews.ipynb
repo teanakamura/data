{
 "cells": [
  {
   "cell_type": "markdown",
   "metadata": {},
   "source": [
    "## train/val/test, doc/sum/headに分割"
   ]
  },
  {
   "cell_type": "code",
   "execution_count": 14,
   "metadata": {},
   "outputs": [],
   "source": [
    "import pandas as pd\n",
    "import numpy as np"
   ]
  },
  {
   "cell_type": "code",
   "execution_count": 9,
   "metadata": {},
   "outputs": [
    {
     "name": "stdout",
     "output_type": "stream",
     "text": [
      "bpe\n",
      "mecab\n",
      "mecab-dir\n",
      "org\n",
      "preprocess.ipynb\n",
      "sentencepiece\n",
      "sum_head_doc.tsv\n"
     ]
    }
   ],
   "source": [
    "%%sh\n",
    "ls"
   ]
  },
  {
   "cell_type": "code",
   "execution_count": 2,
   "metadata": {},
   "outputs": [],
   "source": [
    "file_path = 'sum_head_doc.tsv'"
   ]
  },
  {
   "cell_type": "code",
   "execution_count": 3,
   "metadata": {
    "collapsed": true,
    "jupyter": {
     "outputs_hidden": true
    }
   },
   "outputs": [],
   "source": [
    "df = pd.read_table(file_path)"
   ]
  },
  {
   "cell_type": "code",
   "execution_count": 25,
   "metadata": {},
   "outputs": [
    {
     "data": {
      "text/html": [
       "<div>\n",
       "<style scoped>\n",
       "    .dataframe tbody tr th:only-of-type {\n",
       "        vertical-align: middle;\n",
       "    }\n",
       "\n",
       "    .dataframe tbody tr th {\n",
       "        vertical-align: top;\n",
       "    }\n",
       "\n",
       "    .dataframe thead th {\n",
       "        text-align: right;\n",
       "    }\n",
       "</style>\n",
       "<table border=\"1\" class=\"dataframe\">\n",
       "  <thead>\n",
       "    <tr style=\"text-align: right;\">\n",
       "      <th></th>\n",
       "      <th>date</th>\n",
       "      <th>Y</th>\n",
       "      <th>M</th>\n",
       "      <th>D</th>\n",
       "      <th>h</th>\n",
       "      <th>m</th>\n",
       "      <th>post</th>\n",
       "      <th>priority</th>\n",
       "      <th>docdate</th>\n",
       "      <th>docid</th>\n",
       "    </tr>\n",
       "  </thead>\n",
       "  <tbody>\n",
       "    <tr>\n",
       "      <td>count</td>\n",
       "      <td>2.044790e+05</td>\n",
       "      <td>204479.000000</td>\n",
       "      <td>204479.000000</td>\n",
       "      <td>204479.000000</td>\n",
       "      <td>204479.000000</td>\n",
       "      <td>204479.000000</td>\n",
       "      <td>204479.000000</td>\n",
       "      <td>204479.0</td>\n",
       "      <td>2.044790e+05</td>\n",
       "      <td>204479.000000</td>\n",
       "    </tr>\n",
       "    <tr>\n",
       "      <td>mean</td>\n",
       "      <td>2.014053e+07</td>\n",
       "      <td>2013.988185</td>\n",
       "      <td>6.354398</td>\n",
       "      <td>15.898997</td>\n",
       "      <td>13.637528</td>\n",
       "      <td>28.224801</td>\n",
       "      <td>1.121582</td>\n",
       "      <td>4.0</td>\n",
       "      <td>2.014053e+07</td>\n",
       "      <td>493.421569</td>\n",
       "    </tr>\n",
       "    <tr>\n",
       "      <td>std</td>\n",
       "      <td>2.147277e+04</td>\n",
       "      <td>2.150364</td>\n",
       "      <td>3.404307</td>\n",
       "      <td>8.728244</td>\n",
       "      <td>5.070759</td>\n",
       "      <td>16.876787</td>\n",
       "      <td>0.326803</td>\n",
       "      <td>0.0</td>\n",
       "      <td>2.147203e+04</td>\n",
       "      <td>343.350891</td>\n",
       "    </tr>\n",
       "    <tr>\n",
       "      <td>min</td>\n",
       "      <td>2.011010e+07</td>\n",
       "      <td>2011.000000</td>\n",
       "      <td>1.000000</td>\n",
       "      <td>1.000000</td>\n",
       "      <td>0.000000</td>\n",
       "      <td>0.000000</td>\n",
       "      <td>1.000000</td>\n",
       "      <td>4.0</td>\n",
       "      <td>2.011010e+07</td>\n",
       "      <td>0.000000</td>\n",
       "    </tr>\n",
       "    <tr>\n",
       "      <td>25%</td>\n",
       "      <td>2.012081e+07</td>\n",
       "      <td>2012.000000</td>\n",
       "      <td>3.000000</td>\n",
       "      <td>8.000000</td>\n",
       "      <td>9.000000</td>\n",
       "      <td>14.000000</td>\n",
       "      <td>1.000000</td>\n",
       "      <td>4.0</td>\n",
       "      <td>2.012081e+07</td>\n",
       "      <td>171.000000</td>\n",
       "    </tr>\n",
       "    <tr>\n",
       "      <td>50%</td>\n",
       "      <td>2.014033e+07</td>\n",
       "      <td>2014.000000</td>\n",
       "      <td>6.000000</td>\n",
       "      <td>16.000000</td>\n",
       "      <td>14.000000</td>\n",
       "      <td>30.000000</td>\n",
       "      <td>1.000000</td>\n",
       "      <td>4.0</td>\n",
       "      <td>2.014033e+07</td>\n",
       "      <td>450.000000</td>\n",
       "    </tr>\n",
       "    <tr>\n",
       "      <td>75%</td>\n",
       "      <td>2.016051e+07</td>\n",
       "      <td>2016.000000</td>\n",
       "      <td>9.000000</td>\n",
       "      <td>23.000000</td>\n",
       "      <td>18.000000</td>\n",
       "      <td>42.000000</td>\n",
       "      <td>1.000000</td>\n",
       "      <td>4.0</td>\n",
       "      <td>2.016051e+07</td>\n",
       "      <td>785.000000</td>\n",
       "    </tr>\n",
       "    <tr>\n",
       "      <td>max</td>\n",
       "      <td>2.018063e+07</td>\n",
       "      <td>2018.000000</td>\n",
       "      <td>12.000000</td>\n",
       "      <td>31.000000</td>\n",
       "      <td>23.000000</td>\n",
       "      <td>59.000000</td>\n",
       "      <td>2.000000</td>\n",
       "      <td>4.0</td>\n",
       "      <td>2.018063e+07</td>\n",
       "      <td>1825.000000</td>\n",
       "    </tr>\n",
       "  </tbody>\n",
       "</table>\n",
       "</div>"
      ],
      "text/plain": [
       "               date              Y              M              D  \\\n",
       "count  2.044790e+05  204479.000000  204479.000000  204479.000000   \n",
       "mean   2.014053e+07    2013.988185       6.354398      15.898997   \n",
       "std    2.147277e+04       2.150364       3.404307       8.728244   \n",
       "min    2.011010e+07    2011.000000       1.000000       1.000000   \n",
       "25%    2.012081e+07    2012.000000       3.000000       8.000000   \n",
       "50%    2.014033e+07    2014.000000       6.000000      16.000000   \n",
       "75%    2.016051e+07    2016.000000       9.000000      23.000000   \n",
       "max    2.018063e+07    2018.000000      12.000000      31.000000   \n",
       "\n",
       "                   h              m           post  priority       docdate  \\\n",
       "count  204479.000000  204479.000000  204479.000000  204479.0  2.044790e+05   \n",
       "mean       13.637528      28.224801       1.121582       4.0  2.014053e+07   \n",
       "std         5.070759      16.876787       0.326803       0.0  2.147203e+04   \n",
       "min         0.000000       0.000000       1.000000       4.0  2.011010e+07   \n",
       "25%         9.000000      14.000000       1.000000       4.0  2.012081e+07   \n",
       "50%        14.000000      30.000000       1.000000       4.0  2.014033e+07   \n",
       "75%        18.000000      42.000000       1.000000       4.0  2.016051e+07   \n",
       "max        23.000000      59.000000       2.000000       4.0  2.018063e+07   \n",
       "\n",
       "               docid  \n",
       "count  204479.000000  \n",
       "mean      493.421569  \n",
       "std       343.350891  \n",
       "min         0.000000  \n",
       "25%       171.000000  \n",
       "50%       450.000000  \n",
       "75%       785.000000  \n",
       "max      1825.000000  "
      ]
     },
     "execution_count": 25,
     "metadata": {},
     "output_type": "execute_result"
    }
   ],
   "source": [
    "df.describe()"
   ]
  },
  {
   "cell_type": "code",
   "execution_count": 26,
   "metadata": {},
   "outputs": [
    {
     "name": "stdout",
     "output_type": "stream",
     "text": [
      "<class 'pandas.core.frame.DataFrame'>\n",
      "RangeIndex: 204479 entries, 0 to 204478\n",
      "Data columns (total 15 columns):\n",
      "date        204479 non-null int64\n",
      "Y           204479 non-null int64\n",
      "M           204479 non-null int64\n",
      "D           204479 non-null int64\n",
      "h           204479 non-null int64\n",
      "m           204479 non-null int64\n",
      "genre       204479 non-null object\n",
      "post        204479 non-null int64\n",
      "priority    204479 non-null int64\n",
      "id          204479 non-null object\n",
      "summary     204479 non-null object\n",
      "docdate     204479 non-null int64\n",
      "docid       204479 non-null int64\n",
      "headline    204479 non-null object\n",
      "document    204479 non-null object\n",
      "dtypes: int64(10), object(5)\n",
      "memory usage: 23.4+ MB\n"
     ]
    }
   ],
   "source": [
    "df.info()"
   ]
  },
  {
   "cell_type": "code",
   "execution_count": 27,
   "metadata": {},
   "outputs": [
    {
     "data": {
      "text/html": [
       "<div>\n",
       "<style scoped>\n",
       "    .dataframe tbody tr th:only-of-type {\n",
       "        vertical-align: middle;\n",
       "    }\n",
       "\n",
       "    .dataframe tbody tr th {\n",
       "        vertical-align: top;\n",
       "    }\n",
       "\n",
       "    .dataframe thead th {\n",
       "        text-align: right;\n",
       "    }\n",
       "</style>\n",
       "<table border=\"1\" class=\"dataframe\">\n",
       "  <thead>\n",
       "    <tr style=\"text-align: right;\">\n",
       "      <th></th>\n",
       "      <th>date</th>\n",
       "      <th>Y</th>\n",
       "      <th>M</th>\n",
       "      <th>D</th>\n",
       "      <th>h</th>\n",
       "      <th>m</th>\n",
       "      <th>genre</th>\n",
       "      <th>post</th>\n",
       "      <th>priority</th>\n",
       "      <th>id</th>\n",
       "      <th>summary</th>\n",
       "      <th>docdate</th>\n",
       "      <th>docid</th>\n",
       "      <th>headline</th>\n",
       "      <th>document</th>\n",
       "    </tr>\n",
       "  </thead>\n",
       "  <tbody>\n",
       "    <tr>\n",
       "      <td>0</td>\n",
       "      <td>20110101</td>\n",
       "      <td>2011</td>\n",
       "      <td>1</td>\n",
       "      <td>1</td>\n",
       "      <td>13</td>\n",
       "      <td>52</td>\n",
       "      <td>21</td>\n",
       "      <td>2</td>\n",
       "      <td>4</td>\n",
       "      <td>T012</td>\n",
       "      <td>◎米軍嘉手納基地の戦闘機訓練をグアムへ移転。沖縄の負担軽減策で日米両政府が合意</td>\n",
       "      <td>20110101</td>\n",
       "      <td>74</td>\n",
       "      <td>嘉手納の戦闘機訓練をグアムへ＝沖縄の負担軽減策で−日米合意</td>\n",
       "      <td>日米両政府は、米軍嘉手納基地(沖縄県嘉手納町など)のF15戦闘機の訓練の一部を2011年度...</td>\n",
       "    </tr>\n",
       "    <tr>\n",
       "      <td>1</td>\n",
       "      <td>20110101</td>\n",
       "      <td>2011</td>\n",
       "      <td>1</td>\n",
       "      <td>1</td>\n",
       "      <td>6</td>\n",
       "      <td>31</td>\n",
       "      <td>26</td>\n",
       "      <td>1</td>\n",
       "      <td>4</td>\n",
       "      <td>T002</td>\n",
       "      <td>◎米南部のアーカンソー州北西部で竜巻、3人死亡。家屋損壊の被害も。近郊の空港閉鎖</td>\n",
       "      <td>20110101</td>\n",
       "      <td>20</td>\n",
       "      <td>竜巻で３人死亡＝米南部</td>\n",
       "      <td>【ワシントン時事】米CNNテレビによると、南部アーカンソー州北西部で31日、竜巻が発生し、...</td>\n",
       "    </tr>\n",
       "    <tr>\n",
       "      <td>2</td>\n",
       "      <td>20110101</td>\n",
       "      <td>2011</td>\n",
       "      <td>1</td>\n",
       "      <td>1</td>\n",
       "      <td>12</td>\n",
       "      <td>21</td>\n",
       "      <td></td>\n",
       "      <td>1</td>\n",
       "      <td>4</td>\n",
       "      <td>T210</td>\n",
       "      <td>◎歌手の浜崎あゆみさん(32)結婚へ。お相手は米在住のオーストリア人俳優(30)</td>\n",
       "      <td>20110101</td>\n",
       "      <td>80</td>\n",
       "      <td>浜崎あゆみさん、結婚へ</td>\n",
       "      <td>歌手の浜崎あゆみさん(32)が1月中に結婚することが1日、分かった。所属事務所によると、相...</td>\n",
       "    </tr>\n",
       "    <tr>\n",
       "      <td>3</td>\n",
       "      <td>20110101</td>\n",
       "      <td>2011</td>\n",
       "      <td>1</td>\n",
       "      <td>1</td>\n",
       "      <td>7</td>\n",
       "      <td>43</td>\n",
       "      <td>10</td>\n",
       "      <td>1</td>\n",
       "      <td>4</td>\n",
       "      <td>T102</td>\n",
       "      <td>◎NY外為市場、午後5時現在1ドル=81円10〜20銭。前日比37銭の円高</td>\n",
       "      <td>20110101</td>\n",
       "      <td>23</td>\n",
       "      <td>円急伸、一時８０円台後半＝約１カ月半ぶり〔ＮＹ外為〕（３１日午前１１時）</td>\n",
       "      <td>【ニューヨーク時事】年末31日のニューヨーク外国為替市場の円相場は、市場参加者が少なく薄商...</td>\n",
       "    </tr>\n",
       "    <tr>\n",
       "      <td>4</td>\n",
       "      <td>20110101</td>\n",
       "      <td>2011</td>\n",
       "      <td>1</td>\n",
       "      <td>1</td>\n",
       "      <td>20</td>\n",
       "      <td>54</td>\n",
       "      <td></td>\n",
       "      <td>1</td>\n",
       "      <td>4</td>\n",
       "      <td>T217</td>\n",
       "      <td>◎鳥取県大山町で、82歳女性が心肺停止状態。屋根から落下した雪の下敷きに</td>\n",
       "      <td>20110101</td>\n",
       "      <td>129</td>\n",
       "      <td>屋根の雪落下か、女性が死亡＝渋滞で搬送遅れる−鳥取</td>\n",
       "      <td>1日午後3時45分ごろ、鳥取県大山町岡で「おばあさんが雪の下敷きになった」と119番があっ...</td>\n",
       "    </tr>\n",
       "  </tbody>\n",
       "</table>\n",
       "</div>"
      ],
      "text/plain": [
       "       date     Y  M  D   h   m genre  post  priority    id  \\\n",
       "0  20110101  2011  1  1  13  52    21     2         4  T012   \n",
       "1  20110101  2011  1  1   6  31    26     1         4  T002   \n",
       "2  20110101  2011  1  1  12  21           1         4  T210   \n",
       "3  20110101  2011  1  1   7  43    10     1         4  T102   \n",
       "4  20110101  2011  1  1  20  54           1         4  T217   \n",
       "\n",
       "                                    summary   docdate  docid  \\\n",
       "0   ◎米軍嘉手納基地の戦闘機訓練をグアムへ移転。沖縄の負担軽減策で日米両政府が合意  20110101     74   \n",
       "1  ◎米南部のアーカンソー州北西部で竜巻、3人死亡。家屋損壊の被害も。近郊の空港閉鎖  20110101     20   \n",
       "2  ◎歌手の浜崎あゆみさん(32)結婚へ。お相手は米在住のオーストリア人俳優(30)  20110101     80   \n",
       "3     ◎NY外為市場、午後5時現在1ドル=81円10〜20銭。前日比37銭の円高  20110101     23   \n",
       "4      ◎鳥取県大山町で、82歳女性が心肺停止状態。屋根から落下した雪の下敷きに  20110101    129   \n",
       "\n",
       "                               headline  \\\n",
       "0         嘉手納の戦闘機訓練をグアムへ＝沖縄の負担軽減策で−日米合意   \n",
       "1                           竜巻で３人死亡＝米南部   \n",
       "2                           浜崎あゆみさん、結婚へ   \n",
       "3  円急伸、一時８０円台後半＝約１カ月半ぶり〔ＮＹ外為〕（３１日午前１１時）   \n",
       "4             屋根の雪落下か、女性が死亡＝渋滞で搬送遅れる−鳥取   \n",
       "\n",
       "                                            document  \n",
       "0   日米両政府は、米軍嘉手納基地(沖縄県嘉手納町など)のF15戦闘機の訓練の一部を2011年度...  \n",
       "1   【ワシントン時事】米CNNテレビによると、南部アーカンソー州北西部で31日、竜巻が発生し、...  \n",
       "2   歌手の浜崎あゆみさん(32)が1月中に結婚することが1日、分かった。所属事務所によると、相...  \n",
       "3   【ニューヨーク時事】年末31日のニューヨーク外国為替市場の円相場は、市場参加者が少なく薄商...  \n",
       "4   1日午後3時45分ごろ、鳥取県大山町岡で「おばあさんが雪の下敷きになった」と119番があっ...  "
      ]
     },
     "execution_count": 27,
     "metadata": {},
     "output_type": "execute_result"
    }
   ],
   "source": [
    "df.head()"
   ]
  },
  {
   "cell_type": "code",
   "execution_count": 9,
   "metadata": {},
   "outputs": [
    {
     "data": {
      "text/plain": [
       "0          ◎米軍嘉手納基地の戦闘機訓練をグアムへ移転。沖縄の負担軽減策で日米両政府が合意\n",
       "1         ◎米南部のアーカンソー州北西部で竜巻、3人死亡。家屋損壊の被害も。近郊の空港閉鎖\n",
       "2         ◎歌手の浜崎あゆみさん(32)結婚へ。お相手は米在住のオーストリア人俳優(30)\n",
       "3            ◎NY外為市場、午後5時現在1ドル=81円10〜20銭。前日比37銭の円高\n",
       "4             ◎鳥取県大山町で、82歳女性が心肺停止状態。屋根から落下した雪の下敷きに\n",
       "                            ...                   \n",
       "204474      ◎北朝鮮が核燃料増産か。複数の秘密施設で。非核化協議難航の恐れも。米TV報道\n",
       "204475    ◎栃木・佐野で37度、東京都心32.7度。太平洋高気圧の影響、1日も熱中症に注意\n",
       "204476    ◎九州北部と山口県で断続的に激しい雨。西日本、大気の状態不安定。2日まで大雨警戒\n",
       "204477    ◎群馬県みなかみ町でパラグライダー墜落2人死亡。スクール敷地内で30mの高さから\n",
       "204478     ◎名古屋市の老舗百貨店「丸栄」が30日閉店。前身の呉服店から403年の歴史に幕\n",
       "Name: summary, Length: 204479, dtype: object"
      ]
     },
     "execution_count": 9,
     "metadata": {},
     "output_type": "execute_result"
    }
   ],
   "source": [
    "df.summary"
   ]
  },
  {
   "cell_type": "code",
   "execution_count": 4,
   "metadata": {},
   "outputs": [
    {
     "name": "stdout",
     "output_type": "stream",
     "text": [
      "<class 'pandas.core.frame.DataFrame'>\n",
      "RangeIndex: 204479 entries, 0 to 204478\n",
      "Data columns (total 15 columns):\n",
      "date        204479 non-null int64\n",
      "Y           204479 non-null int64\n",
      "M           204479 non-null int64\n",
      "D           204479 non-null int64\n",
      "h           204479 non-null int64\n",
      "m           204479 non-null int64\n",
      "genre       204479 non-null object\n",
      "post        204479 non-null int64\n",
      "priority    204479 non-null int64\n",
      "id          204479 non-null object\n",
      "summary     204479 non-null object\n",
      "docdate     204479 non-null int64\n",
      "docid       204479 non-null int64\n",
      "headline    204479 non-null object\n",
      "document    204479 non-null object\n",
      "dtypes: int64(10), object(5)\n",
      "memory usage: 23.4+ MB\n"
     ]
    }
   ],
   "source": [
    "df.info()"
   ]
  },
  {
   "cell_type": "code",
   "execution_count": 33,
   "metadata": {},
   "outputs": [
    {
     "name": "stdout",
     "output_type": "stream",
     "text": [
      "0.9 0.05 0.049999999999999975\n"
     ]
    }
   ],
   "source": [
    "train_rate, val_rate = [0.9, 0.05]\n",
    "test_rate = 1 - train_rate - val_rate\n",
    "print(train_rate, val_rate, test_rate)\n",
    "\n",
    "random_seed = 100\n",
    "train_df, val_df, test_df = np.split(df.sample(frac=1, random_state=random_seed), [int(train_rate*len(df)), int((train_rate + val_rate)*len(df))])"
   ]
  },
  {
   "cell_type": "code",
   "execution_count": 31,
   "metadata": {},
   "outputs": [
    {
     "data": {
      "text/plain": [
       "([184031, 10224, 10224], 204479, 204479)"
      ]
     },
     "execution_count": 31,
     "metadata": {},
     "output_type": "execute_result"
    }
   ],
   "source": [
    "len_lis = [len(train_df), len(val_df), len(test_df)]\n",
    "len_lis, len(df), sum(len_lis)"
   ]
  },
  {
   "cell_type": "code",
   "execution_count": 35,
   "metadata": {},
   "outputs": [
    {
     "data": {
      "text/plain": [
       "93151      ◎証取委、日生系資産運用会社など4社の処分を金融庁に勧告。公募増資インサイダー\n",
       "176880      ◎パ結果 オリックス9—0ソフトバンク。楽天3—2日本ハム。西武3—2ロッテ\n",
       "55963     ◎維新評価「まだまだ下がる。実像に近づいている」。橋下氏、衆院選候補者選びに全力\n",
       "164491    ◎中国外務次官が訪朝。北朝鮮が9月に核実験強行して以降初。核・ミサイル問題論議か\n",
       "17942     ◎一斗缶の頭部は40〜60歳男性。5年前の新聞で包まれ。大阪府警、身元の特定急ぐ\n",
       "                            ...                   \n",
       "726       ◎USJ、2月値上げ。大人は現在の6100円から100円アップ。大規模投資のため\n",
       "113828    ◎日本電産、インドに1000億円投資。永守社長が来日中のモディ首相との会談で表明\n",
       "38631           ◎日経平均、41円68銭安の1万0068円19銭で終了=東京株式前場\n",
       "78232       ◎「Xbox One」は499ドル。MSの新ゲーム機、11月に21カ国で発売\n",
       "24845     ◎欧州危機解決がG20の最重要課題。米大統領、独仏首脳と会談。包括案の具体化迫る\n",
       "Name: summary, Length: 184031, dtype: object"
      ]
     },
     "execution_count": 35,
     "metadata": {},
     "output_type": "execute_result"
    }
   ],
   "source": [
    "train_df['summary']"
   ]
  },
  {
   "cell_type": "code",
   "execution_count": 40,
   "metadata": {},
   "outputs": [],
   "source": [
    "modes = {'train': train_df, 'val': val_df, 'test': test_df}\n",
    "cols = {'doc': 'document', 'head': 'headline', 'sum': 'summary'}\n",
    "for modekey in modes:\n",
    "    for colkey in cols:\n",
    "        modes[modekey][cols[colkey]].to_csv(f'org/{modekey}_{colkey}.txt', header=False, index=False)"
   ]
  },
  {
   "cell_type": "markdown",
   "metadata": {},
   "source": [
    "## mecabで分かち書き＆POSタグ"
   ]
  },
  {
   "cell_type": "code",
   "execution_count": 2,
   "metadata": {},
   "outputs": [],
   "source": [
    "import MeCab\n",
    "from tqdm import tqdm_notebook as tqdm"
   ]
  },
  {
   "cell_type": "code",
   "execution_count": 27,
   "metadata": {},
   "outputs": [
    {
     "name": "stdout",
     "output_type": "stream",
     "text": [
      "/usr/lib/x86_64-linux-gnu/mecab/dic\n",
      "mecab-ipadic-neologd\n"
     ]
    }
   ],
   "source": [
    "! mecab-config --dicdir\n",
    "! ls `mecab-config --dicdir`"
   ]
  },
  {
   "cell_type": "code",
   "execution_count": 8,
   "metadata": {},
   "outputs": [],
   "source": [
    "## juman辞書をダウンロードするために以下を実行\n",
    "## mecab-dir/download_juman_dict.shを作ったのでこれを実行する\n",
    "# mkdir -p mecab-dir\n",
    "# cd mecab-dir\n",
    "# curl --silent --cookie-jar cookie.txt 'https://drive.google.com/uc?export=download&id=0B4y35FiV1wh7X2pESGlLREpxdXM' > /dev/null\n",
    "# CODE=\"$(awk '/_warning_/ {print $NF}' cookie.txt)\" \n",
    "# curl --location --cookie cookie.txt \"https://drive.google.com/uc?export=download&id=0B4y35FiV1wh7X2pESGlLREpxdXM&confirm=${CODE} -o juman.tgz\"\n",
    "# rm -f cookie.txt\n",
    "## 解凍してINSTALLに従う"
   ]
  },
  {
   "cell_type": "code",
   "execution_count": 3,
   "metadata": {},
   "outputs": [],
   "source": [
    "mecab_dicts = {\n",
    "    'neologd': '/usr/lib/x86_64-linux-gnu/mecab/dic/mecab-ipadic-neologd',\n",
    "    'juman': '../mecab-dict/jumandic'  # /var/lib/mecab/dic/juman-utf8\n",
    "}\n",
    "mdic = 'juman'  # 'neologd'\n",
    "mecab = MeCab.Tagger(f'-d {mecab_dicts[mdic]}')"
   ]
  },
  {
   "cell_type": "code",
   "execution_count": 4,
   "metadata": {},
   "outputs": [
    {
     "name": "stdout",
     "output_type": "stream",
     "text": [
      "[['適当な', '形容詞,*,ナ形容詞,ダ列基本連体形,適当だ,てきとうな,代表表記:適当だ/てきとうだ'], ['日本', '名詞,地名,*,*,日本,にほん,代表表記:日本/にほん 地名:国'], ['語', '名詞,普通名詞,*,*,語,ご,代表表記:語/ご 漢字読み:音 カテゴリ:抽象物'], ['EOS']]\n",
      "('適当な', '日本', '語', '。', 'それ', 'から', '変な', '日本', '語', '。') ('形容詞', '名詞', '名詞', '特殊', '指示詞', '助詞', '形容詞', '名詞', '名詞', '特殊')\n"
     ]
    }
   ],
   "source": [
    "def repeater(arg):\n",
    "    while True:\n",
    "        yield arg\n",
    "parsed = map(str.split, mecab.parse('適当な日本語').strip().split('\\n'), repeater('\\t'), repeater(1))\n",
    "print(list(parsed))\n",
    "\n",
    "def spliter(obj):\n",
    "    obj_arr = obj.split('\\t', 1)\n",
    "    if len(obj_arr) == 1: return\n",
    "    return obj_arr[0], obj_arr[1].split(',', 1)[0]\n",
    "parsed = filter(bool, map(spliter, mecab.parse('適当な日本語。それから変な日本語。').strip().split('\\n')))\n",
    "txt_lis, pos_lis = zip(*parsed)\n",
    "print(txt_lis, pos_lis)"
   ]
  },
  {
   "cell_type": "code",
   "execution_count": 30,
   "metadata": {},
   "outputs": [],
   "source": [
    "! mkdir -p mecab/{mdic}"
   ]
  },
  {
   "cell_type": "code",
   "execution_count": 32,
   "metadata": {},
   "outputs": [
    {
     "name": "stdout",
     "output_type": "stream",
     "text": [
      "SOURCE:  org/train_doc.txt\n"
     ]
    },
    {
     "data": {
      "application/vnd.jupyter.widget-view+json": {
       "model_id": "6f928d1db6974ff6ada3082b964cb8f3",
       "version_major": 2,
       "version_minor": 0
      },
      "text/plain": [
       "HBox(children=(IntProgress(value=0, max=184031), HTML(value='')))"
      ]
     },
     "metadata": {},
     "output_type": "display_data"
    },
    {
     "name": "stdout",
     "output_type": "stream",
     "text": [
      "('サッカー', '日本', '代表', 'の', 'スポンサー', '、', 'アウディジャパン', '(', '東京', ')', 'は', '18', '日', '、', '女子', 'ワールドカップ', '(', 'W', '杯', ')', 'ドイツ', '大会', 'で', '優勝', 'した', '「', 'なでしこ', 'ジャパン', '」', 'に', '、', '300万', '円', '前後', 'する', 'エントリーカー', '「', 'アウディ', 'A', '1', '」', 'を', '提供', 'する', 'と', '発表', 'した', '。', '代表', 'メンバー', '21', '人', '分', 'と', '監督', '分', 'の', '計', '22', '台', 'を', '3', '年間', '無償', 'で', '貸し', '出す', '。', '都', '内', 'で', '開か', 'れた', '車両', '贈呈', '式', 'に', 'は', '、', '首相', '官邸', 'で', '国民', '栄誉', '賞', 'の', '表彰', 'を', '受けた', 'ばかりの', '佐々木', '則夫', '監督', 'と', '沢', '穂', '希', '、', '丸山', '桂', '里奈', '、', '宮', '間', 'あや', '各', '選手', 'ら', 'メンバー', '15', '人', 'が', '駆け付けた', '。', '「', '高級な', '車', 'に', '手', 'が', '届か', 'なかった', 'ので', '似合う', 'か', 'どう', 'か', '心配', '」', 'と', '神妙な', '面持ち', 'の', '沢', '選手', 'に', '、', '佐々木', '監督', 'は', '「', '私', 'たち', 'に', 'も', '合う', 'で\\udce3\\udc81', '\\udc83', '」', 'と', '得意の', '駄じゃれ', 'で', '応じ', '、', '笑い', 'を', '誘って', 'いた', '。', 'セレモニー', '終了', '後', '、', '会場', 'に', '用意', 'さ', 'れた', '車', 'の', 'ボンネット', 'に', '全員', 'が', '次々', 'に', '記念', 'の', 'サイン', 'を', 'した', '。', '(', '了', ')')\n",
      "('名詞', '名詞', '名詞', '助詞', '名詞', '特殊', '名詞', '特殊', '名詞', '特殊', '助詞', '名詞', '接尾辞', '特殊', '名詞', '名詞', '特殊', '名詞', '名詞', '特殊', '名詞', '名詞', '助詞', '名詞', '動詞', '特殊', '名詞', '名詞', '特殊', '助詞', '特殊', '名詞', '接尾辞', '接尾辞', '動詞', '名詞', '特殊', '名詞', '名詞', '名詞', '特殊', '助詞', '名詞', '動詞', '助詞', '名詞', '動詞', '特殊', '名詞', '名詞', '名詞', '接尾辞', '接尾辞', '助詞', '名詞', '名詞', '助詞', '名詞', '名詞', '接尾辞', '助詞', '名詞', '接尾辞', '名詞', '助詞', '動詞', '動詞', '特殊', '名詞', '接尾辞', '助詞', '動詞', '接尾辞', '名詞', '名詞', '名詞', '助詞', '助詞', '特殊', '名詞', '名詞', '助詞', '名詞', '名詞', '名詞', '助詞', '名詞', '助詞', '動詞', '助動詞', '名詞', '名詞', '名詞', '助詞', '名詞', '名詞', '形容詞', '特殊', '名詞', '名詞', '名詞', '特殊', '名詞', '接尾辞', '名詞', '接頭辞', '名詞', '接尾辞', '名詞', '名詞', '接尾辞', '助詞', '動詞', '特殊', '特殊', '形容詞', '名詞', '助詞', '名詞', '助詞', '動詞', '接尾辞', '助動詞', '動詞', '助詞', '指示詞', '助詞', '名詞', '特殊', '助詞', '形容詞', '名詞', '助詞', '名詞', '名詞', '助詞', '特殊', '名詞', '名詞', '助詞', '特殊', '名詞', '接尾辞', '助詞', '助詞', '動詞', '助動詞', '特殊', '特殊', '助詞', '形容詞', '名詞', '助詞', '動詞', '特殊', '動詞', '助詞', '動詞', '接尾辞', '特殊', '名詞', '名詞', '接尾辞', '特殊', '名詞', '助詞', '名詞', '動詞', '接尾辞', '名詞', '助詞', '名詞', '助詞', '名詞', '助詞', '副詞', '助詞', '名詞', '助詞', '名詞', '助詞', '動詞', '特殊', '特殊', '名詞', '特殊')\n",
      "\n",
      "SOURCE:  org/train_head.txt\n"
     ]
    },
    {
     "data": {
      "application/vnd.jupyter.widget-view+json": {
       "model_id": "1db86587c3804eab80de75036f3d608a",
       "version_major": 2,
       "version_minor": 0
      },
      "text/plain": [
       "HBox(children=(IntProgress(value=0, max=184031), HTML(value='')))"
      ]
     },
     "metadata": {},
     "output_type": "display_data"
    },
    {
     "name": "stdout",
     "output_type": "stream",
     "text": [
      "\n",
      "SOURCE:  org/train_sum.txt\n"
     ]
    },
    {
     "data": {
      "application/vnd.jupyter.widget-view+json": {
       "model_id": "a4903c7d99e6471797ecc669ae74e1a8",
       "version_major": 2,
       "version_minor": 0
      },
      "text/plain": [
       "HBox(children=(IntProgress(value=0, max=184031), HTML(value='')))"
      ]
     },
     "metadata": {},
     "output_type": "display_data"
    },
    {
     "name": "stdout",
     "output_type": "stream",
     "text": [
      "\n",
      "SOURCE:  org/val_doc.txt\n"
     ]
    },
    {
     "data": {
      "application/vnd.jupyter.widget-view+json": {
       "model_id": "09aaeecf470e400187739ed9db4e2fd2",
       "version_major": 2,
       "version_minor": 0
      },
      "text/plain": [
       "HBox(children=(IntProgress(value=0, max=10224), HTML(value='')))"
      ]
     },
     "metadata": {},
     "output_type": "display_data"
    },
    {
     "name": "stdout",
     "output_type": "stream",
     "text": [
      "\n",
      "SOURCE:  org/val_head.txt\n"
     ]
    },
    {
     "data": {
      "application/vnd.jupyter.widget-view+json": {
       "model_id": "c6c365dceef641a2a46009b57efe5a06",
       "version_major": 2,
       "version_minor": 0
      },
      "text/plain": [
       "HBox(children=(IntProgress(value=0, max=10224), HTML(value='')))"
      ]
     },
     "metadata": {},
     "output_type": "display_data"
    },
    {
     "name": "stdout",
     "output_type": "stream",
     "text": [
      "\n",
      "SOURCE:  org/val_sum.txt\n"
     ]
    },
    {
     "data": {
      "application/vnd.jupyter.widget-view+json": {
       "model_id": "7a727798f319451f9addf194920d2cba",
       "version_major": 2,
       "version_minor": 0
      },
      "text/plain": [
       "HBox(children=(IntProgress(value=0, max=10224), HTML(value='')))"
      ]
     },
     "metadata": {},
     "output_type": "display_data"
    },
    {
     "name": "stdout",
     "output_type": "stream",
     "text": [
      "\n",
      "SOURCE:  org/test_doc.txt\n"
     ]
    },
    {
     "data": {
      "application/vnd.jupyter.widget-view+json": {
       "model_id": "8de6ca85a5cf47e6be6bb9c8d2f1573f",
       "version_major": 2,
       "version_minor": 0
      },
      "text/plain": [
       "HBox(children=(IntProgress(value=0, max=10224), HTML(value='')))"
      ]
     },
     "metadata": {},
     "output_type": "display_data"
    },
    {
     "name": "stdout",
     "output_type": "stream",
     "text": [
      "\n",
      "SOURCE:  org/test_head.txt\n"
     ]
    },
    {
     "data": {
      "application/vnd.jupyter.widget-view+json": {
       "model_id": "460c3e97a8004e98a74c092288468e1f",
       "version_major": 2,
       "version_minor": 0
      },
      "text/plain": [
       "HBox(children=(IntProgress(value=0, max=10224), HTML(value='')))"
      ]
     },
     "metadata": {},
     "output_type": "display_data"
    },
    {
     "name": "stdout",
     "output_type": "stream",
     "text": [
      "\n",
      "SOURCE:  org/test_sum.txt\n"
     ]
    },
    {
     "data": {
      "application/vnd.jupyter.widget-view+json": {
       "model_id": "dc0c843a83b34bb4a1818c84660554c3",
       "version_major": 2,
       "version_minor": 0
      },
      "text/plain": [
       "HBox(children=(IntProgress(value=0, max=10224), HTML(value='')))"
      ]
     },
     "metadata": {},
     "output_type": "display_data"
    },
    {
     "name": "stdout",
     "output_type": "stream",
     "text": [
      "\n"
     ]
    }
   ],
   "source": [
    "dirname = f'mecab/{mdic}'\n",
    "modes = ['train', 'val', 'test']\n",
    "cols = {'doc': 'document', 'head': 'headline', 'sum': 'summary'}\n",
    "for mode in modes:\n",
    "    for col in cols:\n",
    "        print('SOURCE: ', f'org/{mode}_{col}.txt')\n",
    "        wc_res = !wc -l org/{mode}_{col}.txt\n",
    "        num_lines = int(wc_res[0].split()[0])\n",
    "        with open(f'org/{mode}_{col}.txt') as srcf, \\\n",
    "                open(f'{dirname}/{mode}_{col}.txt', 'w') as txtf, \\\n",
    "                open(f'{dirname}/{mode}_{col}.pos', 'w') as posf:\n",
    "            for l in tqdm(srcf, total=num_lines):\n",
    "                parsed = filter(bool, map(spliter, mecab.parse(l).strip().split('\\n')))\n",
    "                txt, pos = zip(*parsed)\n",
    "                try:\n",
    "                    txtf.write(' '.join(txt) + '\\n')\n",
    "                    posf.write(' '.join(pos) + '\\n')\n",
    "                except:\n",
    "                    print(txt)\n",
    "                    print(pos)"
   ]
  },
  {
   "cell_type": "code",
   "execution_count": 14,
   "metadata": {},
   "outputs": [
    {
     "name": "stdout",
     "output_type": "stream",
     "text": [
      "41632\n",
      " サッカー日本代表のスポンサー、アウディジャパン(東京)は18日、女子ワールドカップ(W杯)ドイツ大会で優勝した「なでしこジャパン」に、300万円前後するエントリーカー「アウディA1」を提供すると発表した。代表メンバー21人分と監督分の計22台を3年間無償で貸し出す。  都内で開かれた車両贈呈式には、首相官邸で国民栄誉賞の表彰を受けたばかりの佐々木則夫監督と沢穂希、丸山桂里奈、宮間あや各選手らメンバー15人が駆け付けた。「高級な車に手が届かなかったので似合うかどうか心配」と神妙な面持ちの沢選手に、佐々木監督は「私たちにも合うでぃ」と得意の駄じゃれで応じ、笑いを誘っていた。 セレモニー終了後、会場に用意された車のボンネットに全員が次々に記念のサインをした。(了)\n",
      "\n",
      "合う\t動詞,*,子音動詞ワ行,基本形,合う,あう,代表表記:合う/あう 付属動詞候補（基本） 自他動詞:他:合わす/あわす 反義:動詞:離れる/はなれる\n",
      "で\t助詞,格助詞,*,*,で,で,*\n",
      "ぃ\t名詞,組織名,*,*,*,*,*\n",
      "EOS\n",
      "\n",
      "「\t特殊,括弧始,*,*,「,「,*\n",
      "で\t動詞,*,母音動詞,基本連用形,でる,で,代表表記:出る/でる 補文ト 自他動詞:他:出す/だす 反義:動詞:入る/はいる\n",
      "ぃ\t名詞,副詞的名詞,*,*,*,*,*\n",
      "」\t特殊,括弧終,*,*,」,」,*\n",
      "EOS\n",
      "\n"
     ]
    },
    {
     "data": {
      "text/plain": [
       "'「\\t特殊,括弧始,*,*,「,「,*\\n合う\\t動詞,*,子音動詞ワ行,基本形,合う,あう,代表表記:合う/あう 付属動詞候補（基本） 自他動詞:他:合わす/あわす 反義:動詞:離れる/はなれる\\nで\\udce3\\udc81\\t助動詞,*,無活用型,基本形,で\\udce3\\udc81,で\\udce3\\udc81,*\\n\\udc83\\t特殊,記号,*,*,*,*,*\\n」\\t特殊,括弧終,*,*,」,」,*\\nEOS\\n'"
      ]
     },
     "execution_count": 14,
     "metadata": {},
     "output_type": "execute_result"
    }
   ],
   "source": [
    "## mecab + juman辞書でparsingするとuid文字が混ざって書き込みできないことがあるようなので確認\n",
    "from pprint import pprint as pp\n",
    "with open('org/train_doc.txt', encoding='utf_8') as sf, open('tttest.txt', 'w') as wf:\n",
    "    for i, l in enumerate(sf):\n",
    "        if i > 41600 and i < 41700:\n",
    "            try:\n",
    "                res = mecab.parse(l).split('\\n')\n",
    "                wf.write('\\n'.join(res))\n",
    "            except:\n",
    "                print(i)\n",
    "                print(l)\n",
    "                break\n",
    "print(mecab.parse('合うでぃ'))\n",
    "print(mecab.parse('「でぃ」'))\n",
    "mecab.parse('「合うでぃ」')"
   ]
  },
  {
   "cell_type": "markdown",
   "metadata": {},
   "source": [
    "## sentencepieceでtoken化"
   ]
  },
  {
   "cell_type": "code",
   "execution_count": 17,
   "metadata": {},
   "outputs": [],
   "source": [
    "import sentencepiece as spm\n",
    "from tqdm import tqdm_notebook as tqdm"
   ]
  },
  {
   "cell_type": "code",
   "execution_count": 6,
   "metadata": {},
   "outputs": [],
   "source": [
    "! mkdir -p sentencepiece/"
   ]
  },
  {
   "cell_type": "code",
   "execution_count": 22,
   "metadata": {},
   "outputs": [
    {
     "data": {
      "text/plain": [
       "<function _sentencepiece.SentencePieceTrainer_Train>"
      ]
     },
     "execution_count": 22,
     "metadata": {},
     "output_type": "execute_result"
    }
   ],
   "source": [
    "import inspect\n",
    "inspect.isbuiltin(spm.SentencePieceTrainer.Train)\n",
    "spm.SentencePieceTrainer.Train"
   ]
  },
  {
   "cell_type": "code",
   "execution_count": 20,
   "metadata": {},
   "outputs": [
    {
     "data": {
      "text/plain": [
       "True"
      ]
     },
     "execution_count": 20,
     "metadata": {},
     "output_type": "execute_result"
    }
   ],
   "source": [
    "model_type = 'bpe'  # 'unigram'\n",
    "if model_type == 'unigram':\n",
    "    srcdir = 'org'\n",
    "    sptrain_params = f'--input={srcdir}/train_doc.txt --model_prefix=sp_{model_type}/trained_model --vocab_size=16000 --model_type=unigram'\n",
    "elif model_type == 'bpe':\n",
    "    srcdir = 'mecab/juman'\n",
    "    sptrain_params = f'--input={srcdir}/train_doc.txt --model_prefix=sp_{model_type}/trained_model --vocab_size=16000 --model_type=bpe --split_by_whitespace=true'\n",
    "spm.SentencePieceTrainer.Train(sptrain_params)"
   ]
  },
  {
   "cell_type": "code",
   "execution_count": 21,
   "metadata": {},
   "outputs": [
    {
     "data": {
      "text/plain": [
       "True"
      ]
     },
     "execution_count": 21,
     "metadata": {},
     "output_type": "execute_result"
    }
   ],
   "source": [
    "sp = spm.SentencePieceProcessor()\n",
    "sp.Load(f'sp_{model_type}/trained_model.model')"
   ]
  },
  {
   "cell_type": "code",
   "execution_count": 29,
   "metadata": {},
   "outputs": [
    {
     "name": "stdout",
     "output_type": "stream",
     "text": [
      "日 生 系 など ４ 社 の 処分 勧告 ＝ インサイダー 事件 に 区切り − 監視 委\n",
      "['▁日', '▁生', '▁系', '▁など', '▁4', '▁社', '▁の', '▁処分', '▁勧告', '▁=', '▁インサイダー', '▁事件', '▁に', '▁区', '切り', '▁−', '▁監視', '▁委']\n",
      "日 生 系 など 4 社 の 処分 勧告 = インサイダー 事件 に 区切り − 監視 委\n",
      "１５ 日 の 予告 先発 投手 ＝ プロ 野球 パ ・ リーグ\n",
      "['▁15', '▁日', '▁の', '▁予告', '▁先発', '▁投手', '▁=', '▁プロ', '▁野球', '▁パ', '▁・', '▁リーグ']\n",
      "15 日 の 予告 先発 投手 = プロ 野球 パ ・ リーグ\n",
      "維新 評価 「 まだまだ 下がる 」 ＝ 橋 下 氏 、 衆院 選 候補 者 選び に 全力\n",
      "['▁維新', '▁評価', '▁「', '▁まだまだ', '▁下がる', '▁」', '▁=', '▁橋', '▁下', '▁氏', '▁、', '▁衆院', '▁選', '▁候補', '▁者', '▁選び', '▁に', '▁全力']\n",
      "維新 評価 「 まだまだ 下がる 」 = 橋 下 氏 、 衆院 選 候補 者 選び に 全力\n",
      "中国 外務 次官 が 訪 朝 ＝ 核 ・ ミサイル 論議 か\n",
      "['▁中国', '▁外務', '▁次官', '▁が', '▁訪', '▁朝', '▁=', '▁核', '▁・', '▁ミサイル', '▁論議', '▁か']\n",
      "中国 外務 次官 が 訪 朝 = 核 ・ ミサイル 論議 か\n",
      "頭部 は ４０ 〜 ６０ 歳 男性 ＝ ５ 年 前 の 新聞 で 包む 、 一斗缶 遺体 − 大阪\n",
      "['▁頭部', '▁は', '▁40', '▁〜', '▁60', '▁歳', '▁男性', '▁=', '▁5', '▁年', '▁前', '▁の', '▁新聞', '▁で', '▁包', 'む', '▁、', '▁一', '斗', '缶', '▁遺体', '▁−', '▁大阪']\n",
      "頭部 は 40 〜 60 歳 男性 = 5 年 前 の 新聞 で 包む 、 一斗缶 遺体 − 大阪\n",
      "ソフトバンク ４ 連勝 ＝ プロ 野球 ・ ソフトバンク − 西武\n",
      "['▁ソフトバンク', '▁4', '▁連勝', '▁=', '▁プロ', '▁野球', '▁・', '▁ソフトバンク', '▁−', '▁西武']\n",
      "ソフトバンク 4 連勝 = プロ 野球 ・ ソフトバンク − 西武\n",
      "ｉＰＳ で 貧血 改善 ホルモン ＝ 分泌 細胞 を 作製 − 香川 大 など\n",
      "['▁iPS', '▁で', '▁貧', '血', '▁改善', '▁ホル', 'モン', '▁=', '▁分', '泌', '▁細胞', '▁を', '▁作製', '▁−', '▁香川', '▁大', '▁など']\n",
      "iPS で 貧血 改善 ホルモン = 分泌 細胞 を 作製 − 香川 大 など\n",
      "ワタミ 会長 が 出馬 断念 ＝ 都 知事 選\n",
      "['▁ワタ', 'ミ', '▁会長', '▁が', '▁出馬', '▁断念', '▁=', '▁都', '▁知事', '▁選']\n",
      "ワタミ 会長 が 出馬 断念 = 都 知事 選\n",
      "ＤｅＮＡ が 逆転 勝ち ＝ プロ 野球 ・ 広島 − ＤｅＮＡ\n",
      "['▁DeNA', '▁が', '▁逆転', '▁勝ち', '▁=', '▁プロ', '▁野球', '▁・', '▁広島', '▁−', '▁DeNA']\n",
      "DeNA が 逆転 勝ち = プロ 野球 ・ 広島 − DeNA\n",
      "円 相場 、 １０４ 円 ９３ 〜 ９４ 銭 ＝ ４ 日 午後 ５ 時 現在\n",
      "['▁円', '▁相場', '▁、', '▁104', '▁円', '▁93', '▁〜', '▁94', '▁銭', '▁=', '▁4', '▁日', '▁午後', '▁5', '▁時', '▁現在']\n",
      "円 相場 、 104 円 93 〜 94 銭 = 4 日 午後 5 時 現在\n",
      "江沢民 氏 ら の 国際 手配 要請 ＝ チベット で の 「 大 虐殺 」 で − スペイン\n",
      "['▁江', '沢', '民', '▁氏', '▁ら', '▁の', '▁国際', '▁手配', '▁要請', '▁=', '▁チベット', '▁で', '▁の', '▁「', '▁大', '▁虐殺', '▁」', '▁で', '▁−', '▁スペイン']\n",
      "江沢民 氏 ら の 国際 手配 要請 = チベット で の 「 大 虐殺 」 で − スペイン\n"
     ]
    }
   ],
   "source": [
    "with open(f'{srcdir}/train_head.txt') as f:\n",
    "    for i, l in enumerate(f):\n",
    "        if i > 10: break\n",
    "        print(l.strip())\n",
    "        enc = sp.EncodeAsPieces(l.strip())\n",
    "        print(enc)\n",
    "        dec = sp.DecodePieces(enc)\n",
    "        print(dec)"
   ]
  },
  {
   "cell_type": "code",
   "execution_count": 23,
   "metadata": {},
   "outputs": [
    {
     "name": "stdout",
     "output_type": "stream",
     "text": [
      "SOURCE:  mecab/juman/train_doc.txt\n"
     ]
    },
    {
     "data": {
      "application/vnd.jupyter.widget-view+json": {
       "model_id": "0ee15f1c9d5542098ccaa49297ed381e",
       "version_major": 2,
       "version_minor": 0
      },
      "text/plain": [
       "HBox(children=(IntProgress(value=0, max=184030), HTML(value='')))"
      ]
     },
     "metadata": {},
     "output_type": "display_data"
    },
    {
     "name": "stdout",
     "output_type": "stream",
     "text": [
      "\n",
      "SOURCE:  mecab/juman/train_head.txt\n"
     ]
    },
    {
     "data": {
      "application/vnd.jupyter.widget-view+json": {
       "model_id": "7718236561044c62b2294589fdead26f",
       "version_major": 2,
       "version_minor": 0
      },
      "text/plain": [
       "HBox(children=(IntProgress(value=0, max=184031), HTML(value='')))"
      ]
     },
     "metadata": {},
     "output_type": "display_data"
    },
    {
     "name": "stdout",
     "output_type": "stream",
     "text": [
      "\n",
      "SOURCE:  mecab/juman/train_sum.txt\n"
     ]
    },
    {
     "data": {
      "application/vnd.jupyter.widget-view+json": {
       "model_id": "dd7d5265fac34518ba5575ae8098a963",
       "version_major": 2,
       "version_minor": 0
      },
      "text/plain": [
       "HBox(children=(IntProgress(value=0, max=184031), HTML(value='')))"
      ]
     },
     "metadata": {},
     "output_type": "display_data"
    },
    {
     "name": "stdout",
     "output_type": "stream",
     "text": [
      "\n",
      "SOURCE:  mecab/juman/val_doc.txt\n"
     ]
    },
    {
     "data": {
      "application/vnd.jupyter.widget-view+json": {
       "model_id": "ef34546dce2b43fd947a77fc2fa4f0d4",
       "version_major": 2,
       "version_minor": 0
      },
      "text/plain": [
       "HBox(children=(IntProgress(value=0, max=10224), HTML(value='')))"
      ]
     },
     "metadata": {},
     "output_type": "display_data"
    },
    {
     "name": "stdout",
     "output_type": "stream",
     "text": [
      "\n",
      "SOURCE:  mecab/juman/val_head.txt\n"
     ]
    },
    {
     "data": {
      "application/vnd.jupyter.widget-view+json": {
       "model_id": "7d8380b939994ef88f1f9b1fd88702b9",
       "version_major": 2,
       "version_minor": 0
      },
      "text/plain": [
       "HBox(children=(IntProgress(value=0, max=10224), HTML(value='')))"
      ]
     },
     "metadata": {},
     "output_type": "display_data"
    },
    {
     "name": "stdout",
     "output_type": "stream",
     "text": [
      "\n",
      "SOURCE:  mecab/juman/val_sum.txt\n"
     ]
    },
    {
     "data": {
      "application/vnd.jupyter.widget-view+json": {
       "model_id": "9bf6a1826f68480eac01e416f8cfa7f0",
       "version_major": 2,
       "version_minor": 0
      },
      "text/plain": [
       "HBox(children=(IntProgress(value=0, max=10224), HTML(value='')))"
      ]
     },
     "metadata": {},
     "output_type": "display_data"
    },
    {
     "name": "stdout",
     "output_type": "stream",
     "text": [
      "\n",
      "SOURCE:  mecab/juman/test_doc.txt\n"
     ]
    },
    {
     "data": {
      "application/vnd.jupyter.widget-view+json": {
       "model_id": "1d34ea4e380d4a0d920a1ec3bead50fd",
       "version_major": 2,
       "version_minor": 0
      },
      "text/plain": [
       "HBox(children=(IntProgress(value=0, max=10224), HTML(value='')))"
      ]
     },
     "metadata": {},
     "output_type": "display_data"
    },
    {
     "name": "stdout",
     "output_type": "stream",
     "text": [
      "\n",
      "SOURCE:  mecab/juman/test_head.txt\n"
     ]
    },
    {
     "data": {
      "application/vnd.jupyter.widget-view+json": {
       "model_id": "d8f24733746e4f688c689cbd4d1e3708",
       "version_major": 2,
       "version_minor": 0
      },
      "text/plain": [
       "HBox(children=(IntProgress(value=0, max=10224), HTML(value='')))"
      ]
     },
     "metadata": {},
     "output_type": "display_data"
    },
    {
     "name": "stdout",
     "output_type": "stream",
     "text": [
      "\n",
      "SOURCE:  mecab/juman/test_sum.txt\n"
     ]
    },
    {
     "data": {
      "application/vnd.jupyter.widget-view+json": {
       "model_id": "9d2d881e7cec47f7a1899da2500e8126",
       "version_major": 2,
       "version_minor": 0
      },
      "text/plain": [
       "HBox(children=(IntProgress(value=0, max=10224), HTML(value='')))"
      ]
     },
     "metadata": {},
     "output_type": "display_data"
    },
    {
     "name": "stdout",
     "output_type": "stream",
     "text": [
      "\n"
     ]
    }
   ],
   "source": [
    "modes = ['train', 'val', 'test']\n",
    "cols = {'doc': 'document', 'head': 'headline', 'sum': 'summary'}\n",
    "for mode in modes:\n",
    "    for col in cols:\n",
    "        print('SOURCE: ', f'{srcdir}/{mode}_{col}.txt')\n",
    "        wc_res = !wc -l {srcdir}/{mode}_{col}.txt\n",
    "        num_lines = int(wc_res[0].split()[0])\n",
    "        with open(f'{srcdir}/{mode}_{col}.txt') as srcf, \\\n",
    "             open(f'sp_{model_type}/{mode}_{col}.txt', 'w') as txtf:\n",
    "            for l in tqdm(srcf, total=num_lines):\n",
    "                txtf.write(' '.join(sp.EncodeAsPieces(l.strip())) + '\\n')"
   ]
  },
  {
   "cell_type": "code",
   "execution_count": 27,
   "metadata": {},
   "outputs": [
    {
     "name": "stdout",
     "output_type": "stream",
     "text": [
      "DecodeIds\n",
      "DecodeIdsAsSerializedProto\n",
      "DecodePieces\n",
      "DecodePiecesAsSerializedProto\n",
      "EncodeAsIds\n",
      "EncodeAsPieces\n",
      "EncodeAsSerializedProto\n",
      "GetPieceSize\n",
      "GetScore\n",
      "IdToPiece\n",
      "IsControl\n",
      "IsUnknown\n",
      "IsUnused\n",
      "Load\n",
      "LoadFromSerializedProto\n",
      "LoadOrDie\n",
      "LoadVocabulary\n",
      "NBestEncodeAsIds\n",
      "NBestEncodeAsPieces\n",
      "NBestEncodeAsSerializedProto\n",
      "PieceToId\n",
      "ResetVocabulary\n",
      "SampleEncodeAsIds\n",
      "SampleEncodeAsPieces\n",
      "SampleEncodeAsSerializedProto\n",
      "SetDecodeExtraOptions\n",
      "SetEncodeExtraOptions\n",
      "SetVocabulary\n",
      "__del__\n",
      "__getattr__\n",
      "__getitem__\n",
      "__init__\n",
      "__len__\n",
      "__repr__\n",
      "__setattr__\n",
      "bos_id\n",
      "decode_ids\n",
      "decode_ids_as_serialized_proto\n",
      "decode_pieces\n",
      "decode_pieces_as_serialized_proto\n",
      "encode_as_ids\n",
      "encode_as_pieces\n",
      "encode_as_serialized_proto\n",
      "eos_id\n",
      "get_piece_size\n",
      "get_score\n",
      "id_to_piece\n",
      "is_control\n",
      "is_unknown\n",
      "is_unused\n",
      "load\n",
      "load_from_serialized_proto\n",
      "load_vocabulary\n",
      "nbest_encode_as_ids\n",
      "nbest_encode_as_pieces\n",
      "nbest_encode_as_serialized_proto\n",
      "pad_id\n",
      "piece_to_id\n",
      "reset_vocabulary\n",
      "sample_encode_as_ids\n",
      "sample_encode_as_pieces\n",
      "sample_encode_as_serialized_proto\n",
      "set_decode_extra_options\n",
      "set_encode_extra_options\n",
      "set_vocabulary\n",
      "unk_id\n"
     ]
    }
   ],
   "source": [
    "import inspect\n",
    "for x in inspect.getmembers(sp, inspect.ismethod):\n",
    "  print(x[0])"
   ]
  },
  {
   "cell_type": "markdown",
   "metadata": {},
   "source": [
    "## rename"
   ]
  },
  {
   "cell_type": "code",
   "execution_count": 35,
   "metadata": {},
   "outputs": [
    {
     "name": "stdout",
     "output_type": "stream",
     "text": [
      "./mecab\n",
      "./org\n",
      "./sp_bpe\n",
      "./sp_unigram\n"
     ]
    }
   ],
   "source": [
    "%%bash\n",
    "files=./*\n",
    "for file in $files\n",
    "do\n",
    "    if [ -d $file ]\n",
    "    then\n",
    "        echo $file\n",
    "        rename 's/_doc\\.txt/.doc/' $file/*\n",
    "        rename 's/_head\\.txt/.head/' $file/*\n",
    "        rename 's/_sum\\.txt/.sum/' $file/*\n",
    "    fi\n",
    "done"
   ]
  }
 ],
 "metadata": {
  "kernelspec": {
   "display_name": "fairseq",
   "language": "python",
   "name": "fairseq"
  },
  "language_info": {
   "codemirror_mode": {
    "name": "ipython",
    "version": 3
   },
   "file_extension": ".py",
   "mimetype": "text/x-python",
   "name": "python",
   "nbconvert_exporter": "python",
   "pygments_lexer": "ipython3",
   "version": "3.7.4"
  }
 },
 "nbformat": 4,
 "nbformat_minor": 4
}
